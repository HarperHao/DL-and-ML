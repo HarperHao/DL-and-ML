{
 "cells": [
  {
   "cell_type": "markdown",
   "metadata": {},
   "source": [
    "### IoU（交并比）\n",
    "\n",
    "作用：用来衡量由边界框回归算法得到的预测目标框和真实目标框之间的重合程度。\n"
   ]
  },
  {
   "cell_type": "code",
   "execution_count": 5,
   "metadata": {
    "ExecuteTime": {
     "end_time": "2020-10-01T06:31:52.532514Z",
     "start_time": "2020-10-01T06:31:52.526495Z"
    }
   },
   "outputs": [
    {
     "name": "stdout",
     "output_type": "stream",
     "text": [
      "[4 4]\n"
     ]
    }
   ],
   "source": [
    "import numpy as np\n",
    "#np.maximum()依次比较两个array的数，选择max的\n",
    "a=np.maximum([4,2],[3,4])\n",
    "print(a)\n"
   ]
  },
  {
   "cell_type": "code",
   "execution_count": 8,
   "metadata": {
    "ExecuteTime": {
     "end_time": "2020-10-01T06:34:36.443428Z",
     "start_time": "2020-10-01T06:34:36.438443Z"
    }
   },
   "outputs": [
    {
     "name": "stdout",
     "output_type": "stream",
     "text": [
      "[0.3 0.  1. ]\n"
     ]
    }
   ],
   "source": [
    "import numpy as np\n",
    "#np.clip(x,min,max),clip是夹子的意思,将x中的值夹到min与max之间\n",
    "b=np.clip([0.3,-0.3,3],0,1)\n",
    "print(b)"
   ]
  },
  {
   "cell_type": "code",
   "execution_count": 2,
   "metadata": {
    "ExecuteTime": {
     "end_time": "2020-10-01T06:26:50.924351Z",
     "start_time": "2020-10-01T06:26:50.919328Z"
    }
   },
   "outputs": [],
   "source": [
    "import numpy as np\n",
    "\n",
    "def IoU(vertice1,vertice2):\n",
    "    \"\"\"\n",
    "    计算两个矩形区域的交并比函数，verticle格式为[xmin,ymin,xmax,ymax]\n",
    "    xmin即为矩形框中xmin的那个\n",
    "    返回两个矩形区域的交并比\n",
    "    \"\"\"\n",
    "    #计算区域交集的左上与右下坐标(个人认为这个是左下与右上的坐标)\n",
    "    lu=np.maximum(verticel[0:2],vertice2[0:2])\n",
    "    rd=np.minimum(verticee1[2:],vertice2[2:])\n",
    "    \n",
    "    \n",
    "    #得到交集区域的长宽\n",
    "    intersection=np.maximum(0.0,rd-lu)\n",
    "    #计算区域交集的面积\n",
    "    inter_square=intersection[0]*intersection[1]\n",
    "    \n",
    "    #计算区域并集的面积\n",
    "    square1=(vertice1[2]-vertice1[0])*(vertice1[3]-vertice1[1])\n",
    "    square2=(vertice2[2]-vertice2[0])*(vertice2[3]-vertice2[1])\n",
    "    union_square=np.maximumximum(square1+square2-inter_square,1e-10)\n",
    "    \n",
    "    #返回IoU\n",
    "    return np.clip(inter_squarent/union_square,0.0,1.0)\n"
   ]
  },
  {
   "cell_type": "markdown",
   "metadata": {},
   "source": [
    "### 非极大抑制算法（NMS）\n",
    "作用：去除同一目标产生的大量重复区域\n",
    "\n",
    "步骤：将所有的框按分类分数从高到低进行排名；选择得分最高的框，与其他框进行IoU的计算，若IoU大于一定阈值则将那个框删掉。一直循环遍历直到分数数组为空"
   ]
  },
  {
   "cell_type": "code",
   "execution_count": 11,
   "metadata": {
    "ExecuteTime": {
     "end_time": "2020-10-01T07:39:08.797273Z",
     "start_time": "2020-10-01T07:39:08.792278Z"
    }
   },
   "outputs": [
    {
     "name": "stdout",
     "output_type": "stream",
     "text": [
      "[0 1 2 3 4]\n"
     ]
    }
   ],
   "source": [
    "import numpy as np\n",
    "#argsort(),将数组中的元素按从小到大进行排序，输出排序后的index\n",
    "x=np.array([1,2,3,4,5])\n",
    "y=x.argsort()\n",
    "print(y)"
   ]
  },
  {
   "cell_type": "code",
   "execution_count": 14,
   "metadata": {
    "ExecuteTime": {
     "end_time": "2020-10-01T07:48:34.485077Z",
     "start_time": "2020-10-01T07:48:34.478560Z"
    }
   },
   "outputs": [
    {
     "name": "stdout",
     "output_type": "stream",
     "text": [
      "(array([2, 3, 4, 5], dtype=int64),)\n",
      "[-1 -1  1  1  1  1]\n"
     ]
    }
   ],
   "source": [
    "import numpy as np\n",
    "#np.where(condition),返回index\n",
    "#np.where(condition,x,y)满足条件返回x,不满足条件返回y\n",
    "a=np.array([2,4,6,7,8,10])\n",
    "b=np.where(a>5)\n",
    "print(b)\n",
    "c=np.where(a>5,1,-1)\n",
    "print(c)"
   ]
  },
  {
   "cell_type": "code",
   "execution_count": null,
   "metadata": {
    "code_folding": []
   },
   "outputs": [],
   "source": [
    "import numpy as np\n",
    "\n",
    "def py_cpu_nms(dets,thresh):\n",
    "    \"\"\"\n",
    "    这是NMS去除重复目标框的函数\n",
    "    :param dets：目标框“数组”，目标框的格式为：[xmin,ymin,xmax,ymax,score]\n",
    "    :param thresh: 阈值\n",
    "    :return: 不重复的目标框数组在元目标框数组中的下标\n",
    "    \"\"\"\n",
    "    vertices=dets[:,0:4] #所有目标框，元目标框数组\n",
    "    scores=dets[:,4] #bbox打的分\n",
    "    \n",
    "    #打分排序，从大到小\n",
    "    #[::-1]是倒序排序\n",
    "    order= scores.argsort()[::-1]\n",
    "    #keep为最后保留的边框\n",
    "    keep=[]\n",
    "    while order.size>0:\n",
    "        #order[0]为当前分数数组中最大的那个，肯定要保留\n",
    "        i=order[0]\n",
    "        keep.append(i)\n",
    "        #计算窗口i与其他所有窗口的交叠部分的面积\n",
    "        ious=np.array([IoU(vertices[i],vertices[j])for j in order[1:]])\n",
    "        #inds为所有与窗口i的iou值小于threshold值的窗口的index\n",
    "        #保留那些小于阈值的候选框\n",
    "        inds=np.where(ious<=thresh)[0]#为什么要加个[0]?\n",
    "        #order里面只保留那些与窗口i的IoU小于threshold的那些窗口\n",
    "        order=order[inds+1]#为啥要[inds+1]?\n",
    "    return keep"
   ]
  }
 ],
 "metadata": {
  "kernelspec": {
   "display_name": "Python 3",
   "language": "python",
   "name": "python3"
  },
  "language_info": {
   "codemirror_mode": {
    "name": "ipython",
    "version": 3
   },
   "file_extension": ".py",
   "mimetype": "text/x-python",
   "name": "python",
   "nbconvert_exporter": "python",
   "pygments_lexer": "ipython3",
   "version": "3.7.3"
  }
 },
 "nbformat": 4,
 "nbformat_minor": 2
}
