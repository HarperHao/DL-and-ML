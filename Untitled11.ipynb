{
 "cells": [
  {
   "cell_type": "markdown",
   "metadata": {},
   "source": [
    "### 单层神经网络\n"
   ]
  },
  {
   "cell_type": "code",
   "execution_count": 1,
   "metadata": {
    "ExecuteTime": {
     "end_time": "2020-09-17T01:49:02.641611Z",
     "start_time": "2020-09-17T01:49:02.358154Z"
    }
   },
   "outputs": [],
   "source": [
    "import numpy as np"
   ]
  },
  {
   "cell_type": "code",
   "execution_count": 2,
   "metadata": {
    "ExecuteTime": {
     "end_time": "2020-09-17T01:51:35.860221Z",
     "start_time": "2020-09-17T01:51:35.845498Z"
    }
   },
   "outputs": [],
   "source": [
    "#定义输入\n",
    "x0=1\n",
    "x1=0\n",
    "x2=-1\n",
    "#定义权值\n",
    "w0=-5\n",
    "w1=0\n",
    "w2=0\n",
    "#定义正确的标签\n",
    "t=1\n",
    "#定义学习速率\n",
    "lr=1\n",
    "#定义偏置值\n",
    "b=0\n"
   ]
  },
  {
   "cell_type": "code",
   "execution_count": 3,
   "metadata": {
    "ExecuteTime": {
     "end_time": "2020-09-17T01:54:28.899185Z",
     "start_time": "2020-09-17T01:54:28.887217Z"
    }
   },
   "outputs": [
    {
     "name": "stdout",
     "output_type": "stream",
     "text": [
      "-5 0 0\n",
      "-3 0 -2\n",
      "-1 0 -4\n",
      "训练结束\n"
     ]
    }
   ],
   "source": [
    "for i in range(100):\n",
    "    print(w0,w1,w2)\n",
    "    y=np.sign(w0*x0+w1*x1+w2*x2)\n",
    "    if(y!=t):\n",
    "        #更新权值\n",
    "        w0=w0+lr*(t-y)*x0\n",
    "        w1=w1+lr*(t-y)*x1\n",
    "        w2=w2+lr*(t-y)*x2\n",
    "    else:\n",
    "        print(\"训练结束\")\n",
    "        break"
   ]
  },
  {
   "cell_type": "code",
   "execution_count": null,
   "metadata": {},
   "outputs": [],
   "source": []
  }
 ],
 "metadata": {
  "kernelspec": {
   "display_name": "Python 3",
   "language": "python",
   "name": "python3"
  },
  "language_info": {
   "codemirror_mode": {
    "name": "ipython",
    "version": 3
   },
   "file_extension": ".py",
   "mimetype": "text/x-python",
   "name": "python",
   "nbconvert_exporter": "python",
   "pygments_lexer": "ipython3",
   "version": "3.7.3"
  }
 },
 "nbformat": 4,
 "nbformat_minor": 2
}
