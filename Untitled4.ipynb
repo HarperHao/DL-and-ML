{
 "cells": [
  {
   "cell_type": "code",
   "execution_count": 1,
   "metadata": {
    "ExecuteTime": {
     "end_time": "2020-04-29T02:28:14.919131Z",
     "start_time": "2020-04-29T02:28:14.915566Z"
    }
   },
   "outputs": [],
   "source": [
    "import threading\n",
    "import time"
   ]
  },
  {
   "cell_type": "code",
   "execution_count": 2,
   "metadata": {
    "ExecuteTime": {
     "end_time": "2020-04-29T02:28:42.694517Z",
     "start_time": "2020-04-29T02:28:42.690527Z"
    }
   },
   "outputs": [],
   "source": [
    "def func1(x,y):\n",
    "    for i in range(x,y):\n",
    "        print(i)"
   ]
  },
  {
   "cell_type": "code",
   "execution_count": 14,
   "metadata": {
    "ExecuteTime": {
     "end_time": "2020-04-29T03:43:02.902130Z",
     "start_time": "2020-04-29T03:43:02.879175Z"
    }
   },
   "outputs": [
    {
     "name": "stdout",
     "output_type": "stream",
     "text": [
      "15\n",
      "16\n",
      "17\n",
      "18\n",
      "19\n",
      "5\n",
      "6\n",
      "7\n",
      "8\n",
      "9False\n",
      "True\n",
      "\n"
     ]
    }
   ],
   "source": [
    "t1=threading.Thread(target=func1,args=(15,20))\n",
    "t1.start()\n",
    "t1.join(5)\n",
    "t2=threading.Thread(target=func1,args=(5,10))\n",
    "t2.start()\n",
    "#t2.join()\n",
    "print(t1.isAlive())\n",
    "print(t2.isAlive())"
   ]
  },
  {
   "cell_type": "code",
   "execution_count": 15,
   "metadata": {
    "ExecuteTime": {
     "end_time": "2020-04-29T03:43:28.937600Z",
     "start_time": "2020-04-29T03:43:27.806600Z"
    }
   },
   "outputs": [],
   "source": [
    "import pandas as pd "
   ]
  },
  {
   "cell_type": "code",
   "execution_count": null,
   "metadata": {},
   "outputs": [],
   "source": []
  }
 ],
 "metadata": {
  "kernelspec": {
   "display_name": "Python 3",
   "language": "python",
   "name": "python3"
  },
  "language_info": {
   "codemirror_mode": {
    "name": "ipython",
    "version": 3
   },
   "file_extension": ".py",
   "mimetype": "text/x-python",
   "name": "python",
   "nbconvert_exporter": "python",
   "pygments_lexer": "ipython3",
   "version": "3.7.3"
  }
 },
 "nbformat": 4,
 "nbformat_minor": 2
}
