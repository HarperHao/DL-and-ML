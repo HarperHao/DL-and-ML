{
 "cells": [
  {
   "cell_type": "code",
   "execution_count": 1,
   "metadata": {
    "ExecuteTime": {
     "end_time": "2020-06-03T03:38:09.900120Z",
     "start_time": "2020-06-03T03:38:09.474079Z"
    }
   },
   "outputs": [],
   "source": [
    "import matplotlib.pyplot as plt"
   ]
  },
  {
   "cell_type": "code",
   "execution_count": 11,
   "metadata": {
    "ExecuteTime": {
     "end_time": "2020-06-03T03:48:58.370873Z",
     "start_time": "2020-06-03T03:48:58.198431Z"
    }
   },
   "outputs": [
    {
     "data": {
      "image/png": "[encoded data removed]",
      "text/plain": [
       "<Figure size 432x288 with 1 Axes>"
      ]
     },
     "metadata": {
      "needs_background": "light"
     },
     "output_type": "display_data"
    }
   ],
   "source": [
    "import random\n",
    "import numpy as np\n",
    "\n",
    "\n",
    "#坐标轴设置\n",
    "ax=plt.gca()\n",
    "ax.xaxis.set_ticks_position('top')\n",
    "ax.yaxis.set_ticks_position('left')\n",
    "ax.invert_yaxis()\n",
    "plt.ylim(480,0)\n",
    "plt.xlim(0,640)\n",
    "\n",
    "\n",
    "#绘图\n",
    "\n",
    "\n",
    "G=0.5\n",
    "t=0.5\n",
    "speed_x=random.uniform(-3,3)\n",
    "speed_y=random.uniform(-5,-3)\n",
    "\n",
    "vx=0\n",
    "vy=0\n",
    "vy = speed_y + G * t  # 先负后正\n",
    "vx = speed_x\n",
    "#rect.left =rect.left - vx * t\n",
    "#rect.top = rect.top + vy * t\n",
    "t = t + 1/200\n"
   ]
  }
 ],
 "metadata": {
  "kernelspec": {
   "display_name": "Python 3",
   "language": "python",
   "name": "python3"
  },
  "language_info": {
   "codemirror_mode": {
    "name": "ipython",
    "version": 3
   },
   "file_extension": ".py",
   "mimetype": "text/x-python",
   "name": "python",
   "nbconvert_exporter": "python",
   "pygments_lexer": "ipython3",
   "version": "3.7.3"
  }
 },
 "nbformat": 4,
 "nbformat_minor": 2
}
