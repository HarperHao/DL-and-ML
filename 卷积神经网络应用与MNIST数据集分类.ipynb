{
 "cells": [
  {
   "cell_type": "markdown",
   "metadata": {},
   "source": [
    "### 卷积神经网络应用与MNIST数据集分类"
   ]
  },
  {
   "cell_type": "code",
   "execution_count": 2,
   "metadata": {
    "ExecuteTime": {
     "end_time": "2020-09-27T10:29:44.585763Z",
     "start_time": "2020-09-27T10:29:44.581737Z"
    }
   },
   "outputs": [],
   "source": [
    "import tensorflow as tf\n",
    "from tensorflow.keras.models import Sequential\n",
    "from tensorflow.keras.layers import Dense,Dropout,Convolution2D,MaxPooling2D,Flatten\n",
    "from tensorflow.keras.optimizers import Adam"
   ]
  },
  {
   "cell_type": "code",
   "execution_count": 7,
   "metadata": {
    "ExecuteTime": {
     "end_time": "2020-09-27T11:39:03.898207Z",
     "start_time": "2020-09-27T11:20:30.799327Z"
    }
   },
   "outputs": [
    {
     "name": "stdout",
     "output_type": "stream",
     "text": [
      "(60000, 28, 28)\n",
      "(60000, 28, 28, 1)\n",
      "Epoch 1/10\n",
      "938/938 [==============================] - 124s 132ms/step - loss: 0.3320 - accuracy: 0.9064 - val_loss: 0.0954 - val_accuracy: 0.9708\n",
      "Epoch 2/10\n",
      "938/938 [==============================] - 107s 114ms/step - loss: 0.0948 - accuracy: 0.9714 - val_loss: 0.0548 - val_accuracy: 0.9828\n",
      "Epoch 3/10\n",
      "938/938 [==============================] - 111s 119ms/step - loss: 0.0669 - accuracy: 0.9793 - val_loss: 0.0406 - val_accuracy: 0.9855\n",
      "Epoch 4/10\n",
      "938/938 [==============================] - 113s 120ms/step - loss: 0.0536 - accuracy: 0.9833 - val_loss: 0.0319 - val_accuracy: 0.9899\n",
      "Epoch 5/10\n",
      "938/938 [==============================] - 111s 118ms/step - loss: 0.0444 - accuracy: 0.9858 - val_loss: 0.0309 - val_accuracy: 0.9895\n",
      "Epoch 6/10\n",
      "938/938 [==============================] - 117s 125ms/step - loss: 0.0376 - accuracy: 0.9885 - val_loss: 0.0305 - val_accuracy: 0.9894\n",
      "Epoch 7/10\n",
      "938/938 [==============================] - 118s 125ms/step - loss: 0.0326 - accuracy: 0.9895 - val_loss: 0.0237 - val_accuracy: 0.9917\n",
      "Epoch 8/10\n",
      "938/938 [==============================] - 105s 112ms/step - loss: 0.0284 - accuracy: 0.9912 - val_loss: 0.0244 - val_accuracy: 0.9915\n",
      "Epoch 9/10\n",
      "938/938 [==============================] - 101s 108ms/step - loss: 0.0256 - accuracy: 0.9920 - val_loss: 0.0232 - val_accuracy: 0.9931\n",
      "Epoch 10/10\n",
      "938/938 [==============================] - 104s 111ms/step - loss: 0.0223 - accuracy: 0.9927 - val_loss: 0.0229 - val_accuracy: 0.9920\n"
     ]
    },
    {
     "data": {
      "text/plain": [
       "<tensorflow.python.keras.callbacks.History at 0x1f47e351b00>"
      ]
     },
     "execution_count": 7,
     "metadata": {},
     "output_type": "execute_result"
    }
   ],
   "source": [
    "#载入数据\n",
    "mnist=tf.keras.datasets.mnist\n",
    "#载入数据，划分好训练集和测试集\n",
    "(x_train,y_train),(x_test,y_test)=mnist.load_data()\n",
    "print(x_train.shape)\n",
    "#做卷积时要把数据reshape变成四维数据(数据数量、图片高度、图片宽度、图片通道数)\n",
    "x_train=x_train.reshape(-1,28,28,1)/255.0\n",
    "x_test=x_test.reshape(-1,28,28,1)/255.0\n",
    "print(x_train.shape)\n",
    "#把训练集和测试集的标签转为独热编码\n",
    "y_train=tf.keras.utils.to_categorical(y_train,num_classes=10)\n",
    "y_test=tf.keras.utils.to_categorical(y_test,num_classes=10)\n",
    "\n",
    "#定义顺序模型\n",
    "model=Sequential()\n",
    "#第一个卷积层\n",
    "model.add(Convolution2D(\n",
    "    input_shape=(28,28,1),\n",
    "    filters=32,\n",
    "    kernel_size=5,\n",
    "    strides=1,\n",
    "    padding='same',\n",
    "    activation='relu'\n",
    "))\n",
    "#第一个池化层\n",
    "model.add(MaxPooling2D(\n",
    "    pool_size=2,\n",
    "    strides=2,\n",
    "    padding='same'\n",
    "))\n",
    "#第二个卷积层\n",
    "model.add(Convolution2D(\n",
    "filters=64,\n",
    "kernel_size=5,\n",
    "strides=1,\n",
    "padding='same',\n",
    "activation='relu'))\n",
    "#第二个池化层\n",
    "model.add(MaxPooling2D(2,2,'same'))\n",
    "#把第二个池化层的输出进行数据扁平化\n",
    "model.add(Flatten())\n",
    "#第一个全连接层\n",
    "#Dense：全连接层,1024个输入神经元\n",
    "model.add(Dense(1024,activation='relu'))\n",
    "#Dropout，防止过拟合，在前向传播过程中，让某个神经元的激活值以一定的概率停止工作\n",
    "model.add(Dropout(0.5))\n",
    "#第二个全连接层，10个输出神经元\n",
    "model.add(Dense(10,activation='softmax'))\n",
    "#定义优化器+\n",
    "\n",
    "adam=Adam(lr=1e-4)\n",
    "#定义优化器，loss function，训练过程中计算准确率\n",
    "model.compile(optimizer=adam,loss='categorical_crossentropy',metrics=['accuracy'])\n",
    "#训练模型\n",
    "model.fit(x_train,y_train,batch_size=64,epochs=10,validation_data=(x_test,y_test))\n"
   ]
  },
  {
   "cell_type": "markdown",
   "metadata": {},
   "source": [
    "model.compile (optimizer=Adam(lr=1e-4), loss=’binary_crossentropy’, metrics=[‘accuracy’])\n",
    "\n",
    "optimizer：优化器，如Adam\n",
    "\n",
    "loss：计算损失，这里用的是交叉熵损失\n",
    "\n",
    "metrics: 列表，包含评估模型在训练和测试时的性能的指标，典型用法是metrics=[‘accuracy’]。如果要在多输出模型中为不同的输出指定不同的指标，可向该参数传递一个字典，例如metrics={‘output_a’: ‘accuracy’}\n"
   ]
  },
  {
   "cell_type": "code",
   "execution_count": 7,
   "metadata": {
    "ExecuteTime": {
     "end_time": "2020-09-28T00:58:11.178265Z",
     "start_time": "2020-09-28T00:58:10.688755Z"
    }
   },
   "outputs": [
    {
     "ename": "NameError",
     "evalue": "name 'model' is not defined",
     "output_type": "error",
     "traceback": [
      "\u001b[1;31m---------------------------------------------------------------------------\u001b[0m",
      "\u001b[1;31mNameError\u001b[0m                                 Traceback (most recent call last)",
      "\u001b[1;32m<ipython-input-7-6a94d82597bd>\u001b[0m in \u001b[0;36m<module>\u001b[1;34m\u001b[0m\n\u001b[1;32m----> 1\u001b[1;33m \u001b[0mmodel\u001b[0m\u001b[1;33m.\u001b[0m\u001b[0msave\u001b[0m\u001b[1;33m(\u001b[0m\u001b[1;34m'mnist.h5'\u001b[0m\u001b[1;33m)\u001b[0m\u001b[1;33m\u001b[0m\u001b[1;33m\u001b[0m\u001b[0m\n\u001b[0m",
      "\u001b[1;31mNameError\u001b[0m: name 'model' is not defined"
     ]
    }
   ],
   "source": [
    "model.save('mnist.h5')"
   ]
  },
  {
   "cell_type": "code",
   "execution_count": 6,
   "metadata": {
    "ExecuteTime": {
     "end_time": "2020-09-28T00:58:10.685759Z",
     "start_time": "2020-09-28T00:58:01.810874Z"
    }
   },
   "outputs": [],
   "source": [
    "import tensorflow as tf\n",
    "from tensorflow.keras.models import load_model\n",
    "import matplotlib.pyplot as plt \n",
    "from PIL import Image\n",
    "import numpy as np"
   ]
  },
  {
   "cell_type": "code",
   "execution_count": 10,
   "metadata": {
    "ExecuteTime": {
     "end_time": "2020-09-28T00:58:20.070845Z",
     "start_time": "2020-09-28T00:58:19.713764Z"
    }
   },
   "outputs": [
    {
     "data": {
      "image/png": "[encoded data removed]",
      "text/plain": [
       "<Figure size 432x288 with 1 Axes>"
      ]
     },
     "metadata": {
      "needs_background": "light"
     },
     "output_type": "display_data"
    }
   ],
   "source": [
    "#载入数据\n",
    "mnist=tf.keras.datasets.mnist\n",
    "(x_train,y_train),(x_test,y_test)=mnist.load_data()\n",
    "#获取一张照片，并把它的shape变成二维，并用灰度图显示\n",
    "plt.imshow(x_train[15],cmap='gray')\n",
    "#不显示坐标\n",
    "plt.axis('off')\n",
    "plt.show()"
   ]
  },
  {
   "cell_type": "code",
   "execution_count": 9,
   "metadata": {
    "ExecuteTime": {
     "end_time": "2020-09-28T00:58:17.931238Z",
     "start_time": "2020-09-28T00:58:17.607644Z"
    }
   },
   "outputs": [
    {
     "data": {
      "image/png": "[encoded data removed]",
      "text/plain": [
       "<Figure size 432x288 with 1 Axes>"
      ]
     },
     "metadata": {
      "needs_background": "light"
     },
     "output_type": "display_data"
    }
   ],
   "source": [
    "#载入我自己写的数字图片\n",
    "img=Image.open('K:/1.jpg')\n",
    "plt.imshow(img)\n",
    "plt.axis('off')\n",
    "plt.show()"
   ]
  },
  {
   "cell_type": "code",
   "execution_count": 11,
   "metadata": {
    "ExecuteTime": {
     "end_time": "2020-09-28T00:58:23.773114Z",
     "start_time": "2020-09-28T00:58:23.701305Z"
    }
   },
   "outputs": [
    {
     "data": {
      "image/png": "[encoded data removed]",
      "text/plain": [
       "<Figure size 432x288 with 1 Axes>"
      ]
     },
     "metadata": {
      "needs_background": "light"
     },
     "output_type": "display_data"
    }
   ],
   "source": [
    "#img.convert('L')为灰度图像，每个像素用8个bit表示\n",
    "image=np.array(img.resize((28,28)).convert('L'))\n",
    "plt.imshow(image,cmap='gray')\n",
    "#不显示坐标\n",
    "plt.axis('off')\n",
    "plt.show()\n",
    "                                           "
   ]
  },
  {
   "cell_type": "code",
   "execution_count": 12,
   "metadata": {
    "ExecuteTime": {
     "end_time": "2020-09-28T00:58:25.873736Z",
     "start_time": "2020-09-28T00:58:25.800645Z"
    }
   },
   "outputs": [
    {
     "data": {
      "image/png": "[encoded data removed]",
      "text/plain": [
       "<Figure size 432x288 with 1 Axes>"
      ]
     },
     "metadata": {
      "needs_background": "light"
     },
     "output_type": "display_data"
    }
   ],
   "source": [
    "image=(255-image)/255.0\n",
    "plt.imshow(image,cmap='gray')\n",
    "plt.axis('off')\n",
    "plt.show()"
   ]
  },
  {
   "cell_type": "code",
   "execution_count": 13,
   "metadata": {
    "ExecuteTime": {
     "end_time": "2020-09-28T00:58:29.682683Z",
     "start_time": "2020-09-28T00:58:28.046595Z"
    }
   },
   "outputs": [
    {
     "name": "stdout",
     "output_type": "stream",
     "text": [
      "WARNING:tensorflow:From <ipython-input-13-baaa7a7cb672>:3: Sequential.predict_classes (from tensorflow.python.keras.engine.sequential) is deprecated and will be removed after 2021-01-01.\n",
      "Instructions for updating:\n",
      "Please use instead:* `np.argmax(model.predict(x), axis=-1)`,   if your model does multi-class classification   (e.g. if it uses a `softmax` last-layer activation).* `(model.predict(x) > 0.5).astype(\"int32\")`,   if your model does binary classification   (e.g. if it uses a `sigmoid` last-layer activation).\n",
      "[3]\n"
     ]
    }
   ],
   "source": [
    "image=image.reshape((1,28,28,1))\n",
    "model=load_model('mnist.h5')\n",
    "prediction=model.predict_classes(image)\n",
    "print(prediction)"
   ]
  },
  {
   "cell_type": "code",
   "execution_count": 14,
   "metadata": {
    "ExecuteTime": {
     "end_time": "2020-09-28T01:05:00.756280Z",
     "start_time": "2020-09-28T01:05:00.751216Z"
    }
   },
   "outputs": [],
   "source": [
    "import numpy as np\n",
    "from tensorflow.keras.datasets import cifar10\n",
    "from tensorflow.keras.utils import to_categorical\n",
    "from tensorflow.keras.models import Sequential\n",
    "from tensorflow.keras.layers import Dense,Dropout,Convolution2D,MaxPooling2D,Flatten\n",
    "from tensorflow.keras.optimizers import Adam\n",
    "import matplotlib.pyplot as plt"
   ]
  },
  {
   "cell_type": "code",
   "execution_count": 26,
   "metadata": {
    "ExecuteTime": {
     "end_time": "2020-09-28T02:44:31.752358Z",
     "start_time": "2020-09-28T02:44:30.827254Z"
    }
   },
   "outputs": [
    {
     "data": {
      "image/png": "[encoded data removed]",
      "text/plain": [
       "<Figure size 432x288 with 1 Axes>"
      ]
     },
     "metadata": {
      "needs_background": "light"
     },
     "output_type": "display_data"
    }
   ],
   "source": [
    "from tensorflow.keras.datasets import cifar10\n",
    "from tensorflow.keras.utils import to_categorical\n",
    "from tensorflow.keras.models import Sequential\n",
    "from tensorflow.keras.layers import Dense,Dropout,Convolution2D,MaxPooling2D,Flatten\n",
    "from tensorflow.keras.optimizers import Adam\n",
    "import matplotlib.pyplot as plt\n",
    "# 下载并载入数据\n",
    "# 训练集数据(50000, 32, 32, 3)\n",
    "# 测试集数据(50000, 1)\n",
    "(x_train,y_train),(x_test,y_test) = cifar10.load_data()\n",
    "# 显示 1 张图片\n",
    "# 第 3 张图片\n",
    "n = 6\n",
    "# 一共 10 个种类\n",
    "target_name = ['airplane','automobile','bird','cat','deer','dog','frog','horse','ship','truck']\n",
    "# 显示图片\n",
    "plt.imshow(x_train[n])\n",
    "plt.axis('off')\n",
    "# 根据标签获得种类名称\n",
    "plt.title(target_name[y_train[n][0]])\n",
    "plt.show()\n"
   ]
  },
  {
   "cell_type": "code",
   "execution_count": 27,
   "metadata": {
    "ExecuteTime": {
     "end_time": "2020-09-28T06:34:29.767923Z",
     "start_time": "2020-09-28T02:44:37.327710Z"
    }
   },
   "outputs": [
    {
     "name": "stdout",
     "output_type": "stream",
     "text": [
      "Epoch 1/100\n",
      "782/782 [==============================] - 201s 257ms/step - loss: 1.8950 - accuracy: 0.2953 - val_loss: 1.6242 - val_accuracy: 0.4044\n",
      "Epoch 2/100\n",
      "782/782 [==============================] - 198s 253ms/step - loss: 1.5943 - accuracy: 0.4152 - val_loss: 1.4710 - val_accuracy: 0.4657\n",
      "Epoch 3/100\n",
      "782/782 [==============================] - 212s 271ms/step - loss: 1.4653 - accuracy: 0.4645 - val_loss: 1.3542 - val_accuracy: 0.5131\n",
      "Epoch 4/100\n",
      "782/782 [==============================] - 219s 280ms/step - loss: 1.3746 - accuracy: 0.5023 - val_loss: 1.2825 - val_accuracy: 0.5436\n",
      "Epoch 5/100\n",
      "782/782 [==============================] - 232s 297ms/step - loss: 1.2969 - accuracy: 0.5351 - val_loss: 1.1947 - val_accuracy: 0.5799\n",
      "Epoch 6/100\n",
      "782/782 [==============================] - 181s 231ms/step - loss: 1.2342 - accuracy: 0.5607 - val_loss: 1.1416 - val_accuracy: 0.5989\n",
      "Epoch 7/100\n",
      "782/782 [==============================] - 179s 230ms/step - loss: 1.1730 - accuracy: 0.5825 - val_loss: 1.0838 - val_accuracy: 0.6188\n",
      "Epoch 8/100\n",
      "782/782 [==============================] - 180s 231ms/step - loss: 1.1213 - accuracy: 0.6046 - val_loss: 1.0391 - val_accuracy: 0.6390\n",
      "Epoch 9/100\n",
      "782/782 [==============================] - 179s 229ms/step - loss: 1.0722 - accuracy: 0.6247 - val_loss: 1.0030 - val_accuracy: 0.6540\n",
      "Epoch 10/100\n",
      "782/782 [==============================] - 178s 227ms/step - loss: 1.0389 - accuracy: 0.6356 - val_loss: 0.9540 - val_accuracy: 0.6725\n",
      "Epoch 11/100\n",
      "782/782 [==============================] - 180s 230ms/step - loss: 0.9966 - accuracy: 0.6526 - val_loss: 0.9142 - val_accuracy: 0.6807\n",
      "Epoch 12/100\n",
      "782/782 [==============================] - 178s 228ms/step - loss: 0.9703 - accuracy: 0.6620 - val_loss: 0.9058 - val_accuracy: 0.6827\n",
      "Epoch 13/100\n",
      "782/782 [==============================] - 179s 229ms/step - loss: 0.9404 - accuracy: 0.6723 - val_loss: 0.8921 - val_accuracy: 0.6907\n",
      "Epoch 14/100\n",
      "782/782 [==============================] - 178s 227ms/step - loss: 0.9097 - accuracy: 0.6831 - val_loss: 0.8566 - val_accuracy: 0.6972\n",
      "Epoch 15/100\n",
      "782/782 [==============================] - 185s 237ms/step - loss: 0.8898 - accuracy: 0.6895 - val_loss: 0.8589 - val_accuracy: 0.7005\n",
      "Epoch 16/100\n",
      "782/782 [==============================] - 180s 230ms/step - loss: 0.8691 - accuracy: 0.6972 - val_loss: 0.8466 - val_accuracy: 0.7047\n",
      "Epoch 17/100\n",
      "782/782 [==============================] - 179s 229ms/step - loss: 0.8431 - accuracy: 0.7066 - val_loss: 0.8192 - val_accuracy: 0.7143\n",
      "Epoch 18/100\n",
      "782/782 [==============================] - 179s 229ms/step - loss: 0.8283 - accuracy: 0.7122 - val_loss: 0.7805 - val_accuracy: 0.7302\n",
      "Epoch 19/100\n",
      "782/782 [==============================] - 179s 229ms/step - loss: 0.8071 - accuracy: 0.7191 - val_loss: 0.7881 - val_accuracy: 0.7305\n",
      "Epoch 20/100\n",
      "782/782 [==============================] - 176s 225ms/step - loss: 0.7885 - accuracy: 0.7268 - val_loss: 0.7494 - val_accuracy: 0.7387\n",
      "Epoch 21/100\n",
      "782/782 [==============================] - 180s 230ms/step - loss: 0.7705 - accuracy: 0.7314 - val_loss: 0.7424 - val_accuracy: 0.7416\n",
      "Epoch 22/100\n",
      "782/782 [==============================] - 176s 225ms/step - loss: 0.7574 - accuracy: 0.7376 - val_loss: 0.7137 - val_accuracy: 0.7495\n",
      "Epoch 23/100\n",
      "782/782 [==============================] - 177s 226ms/step - loss: 0.7376 - accuracy: 0.7434 - val_loss: 0.7223 - val_accuracy: 0.7481\n",
      "Epoch 24/100\n",
      "782/782 [==============================] - 176s 224ms/step - loss: 0.7276 - accuracy: 0.7462 - val_loss: 0.6951 - val_accuracy: 0.7585\n",
      "Epoch 25/100\n",
      "782/782 [==============================] - 176s 226ms/step - loss: 0.7062 - accuracy: 0.7549 - val_loss: 0.6868 - val_accuracy: 0.7610\n",
      "Epoch 26/100\n",
      "782/782 [==============================] - 176s 225ms/step - loss: 0.6951 - accuracy: 0.7589 - val_loss: 0.6708 - val_accuracy: 0.7652\n",
      "Epoch 27/100\n",
      "782/782 [==============================] - 177s 226ms/step - loss: 0.6807 - accuracy: 0.7651 - val_loss: 0.6758 - val_accuracy: 0.7625\n",
      "Epoch 28/100\n",
      "782/782 [==============================] - 176s 226ms/step - loss: 0.6673 - accuracy: 0.7683 - val_loss: 0.6734 - val_accuracy: 0.7680\n",
      "Epoch 29/100\n",
      "782/782 [==============================] - 176s 225ms/step - loss: 0.6522 - accuracy: 0.7725 - val_loss: 0.6496 - val_accuracy: 0.7730\n",
      "Epoch 30/100\n",
      "782/782 [==============================] - 177s 226ms/step - loss: 0.6412 - accuracy: 0.7766 - val_loss: 0.6399 - val_accuracy: 0.7781\n",
      "Epoch 31/100\n",
      "782/782 [==============================] - 177s 226ms/step - loss: 0.6349 - accuracy: 0.7777 - val_loss: 0.6592 - val_accuracy: 0.7702\n",
      "Epoch 32/100\n",
      "782/782 [==============================] - 177s 226ms/step - loss: 0.6221 - accuracy: 0.7828 - val_loss: 0.6492 - val_accuracy: 0.7751\n",
      "Epoch 33/100\n",
      "782/782 [==============================] - 177s 227ms/step - loss: 0.6123 - accuracy: 0.7879 - val_loss: 0.6305 - val_accuracy: 0.7828\n",
      "Epoch 34/100\n",
      "782/782 [==============================] - 179s 229ms/step - loss: 0.6002 - accuracy: 0.7911 - val_loss: 0.6204 - val_accuracy: 0.7812\n",
      "Epoch 35/100\n",
      "782/782 [==============================] - 181s 232ms/step - loss: 0.5973 - accuracy: 0.7921 - val_loss: 0.6069 - val_accuracy: 0.7861\n",
      "Epoch 36/100\n",
      "782/782 [==============================] - 177s 226ms/step - loss: 0.5849 - accuracy: 0.7965 - val_loss: 0.6131 - val_accuracy: 0.7893\n",
      "Epoch 37/100\n",
      "782/782 [==============================] - 179s 228ms/step - loss: 0.5721 - accuracy: 0.8000 - val_loss: 0.6221 - val_accuracy: 0.7853\n",
      "Epoch 38/100\n",
      "782/782 [==============================] - 178s 227ms/step - loss: 0.5645 - accuracy: 0.8016 - val_loss: 0.5977 - val_accuracy: 0.7926\n",
      "Epoch 39/100\n",
      "782/782 [==============================] - 177s 226ms/step - loss: 0.5585 - accuracy: 0.8028 - val_loss: 0.5898 - val_accuracy: 0.7953\n",
      "Epoch 40/100\n",
      "782/782 [==============================] - 182s 233ms/step - loss: 0.5508 - accuracy: 0.8076 - val_loss: 0.5847 - val_accuracy: 0.7953\n",
      "Epoch 41/100\n",
      "782/782 [==============================] - 180s 231ms/step - loss: 0.5437 - accuracy: 0.8113 - val_loss: 0.5809 - val_accuracy: 0.8000\n",
      "Epoch 42/100\n",
      "782/782 [==============================] - 176s 225ms/step - loss: 0.5367 - accuracy: 0.8130 - val_loss: 0.5866 - val_accuracy: 0.7982\n",
      "Epoch 43/100\n",
      "782/782 [==============================] - 176s 225ms/step - loss: 0.5271 - accuracy: 0.8145 - val_loss: 0.5757 - val_accuracy: 0.8012\n",
      "Epoch 44/100\n",
      "782/782 [==============================] - 176s 225ms/step - loss: 0.5169 - accuracy: 0.8185 - val_loss: 0.5751 - val_accuracy: 0.8016\n",
      "Epoch 45/100\n",
      "782/782 [==============================] - 176s 225ms/step - loss: 0.5110 - accuracy: 0.8236 - val_loss: 0.5707 - val_accuracy: 0.8032\n",
      "Epoch 46/100\n",
      "782/782 [==============================] - 176s 225ms/step - loss: 0.5098 - accuracy: 0.8209 - val_loss: 0.5770 - val_accuracy: 0.7990\n",
      "Epoch 47/100\n",
      "782/782 [==============================] - 176s 225ms/step - loss: 0.5006 - accuracy: 0.8250 - val_loss: 0.5585 - val_accuracy: 0.8076\n",
      "Epoch 48/100\n",
      "782/782 [==============================] - 176s 225ms/step - loss: 0.4886 - accuracy: 0.8282 - val_loss: 0.5686 - val_accuracy: 0.8045\n",
      "Epoch 49/100\n",
      "782/782 [==============================] - 177s 226ms/step - loss: 0.4876 - accuracy: 0.8292 - val_loss: 0.5582 - val_accuracy: 0.8094\n",
      "Epoch 50/100\n",
      "782/782 [==============================] - 176s 226ms/step - loss: 0.4789 - accuracy: 0.8345 - val_loss: 0.5551 - val_accuracy: 0.8085\n",
      "Epoch 51/100\n",
      "782/782 [==============================] - 176s 225ms/step - loss: 0.4722 - accuracy: 0.8347 - val_loss: 0.5614 - val_accuracy: 0.8075\n",
      "Epoch 52/100\n",
      "782/782 [==============================] - 178s 227ms/step - loss: 0.4656 - accuracy: 0.8351 - val_loss: 0.5565 - val_accuracy: 0.8085\n",
      "Epoch 53/100\n",
      "782/782 [==============================] - 176s 225ms/step - loss: 0.4610 - accuracy: 0.8372 - val_loss: 0.5496 - val_accuracy: 0.8116\n",
      "Epoch 54/100\n",
      "782/782 [==============================] - 176s 225ms/step - loss: 0.4533 - accuracy: 0.8380 - val_loss: 0.5491 - val_accuracy: 0.8125\n",
      "Epoch 55/100\n",
      "782/782 [==============================] - 179s 228ms/step - loss: 0.4502 - accuracy: 0.8424 - val_loss: 0.5632 - val_accuracy: 0.8098\n",
      "Epoch 56/100\n",
      "782/782 [==============================] - 178s 228ms/step - loss: 0.4419 - accuracy: 0.8443 - val_loss: 0.5646 - val_accuracy: 0.8094\n",
      "Epoch 57/100\n",
      "782/782 [==============================] - 177s 227ms/step - loss: 0.4358 - accuracy: 0.8459 - val_loss: 0.5466 - val_accuracy: 0.8137\n",
      "Epoch 58/100\n",
      "782/782 [==============================] - 178s 227ms/step - loss: 0.4313 - accuracy: 0.8471 - val_loss: 0.5406 - val_accuracy: 0.8122\n",
      "Epoch 59/100\n",
      "782/782 [==============================] - 177s 227ms/step - loss: 0.4267 - accuracy: 0.8488 - val_loss: 0.5458 - val_accuracy: 0.8149\n",
      "Epoch 60/100\n",
      "782/782 [==============================] - 175s 224ms/step - loss: 0.4220 - accuracy: 0.8517 - val_loss: 0.5474 - val_accuracy: 0.8148\n",
      "Epoch 61/100\n",
      "782/782 [==============================] - 175s 224ms/step - loss: 0.4193 - accuracy: 0.8514 - val_loss: 0.5387 - val_accuracy: 0.8196\n",
      "Epoch 62/100\n",
      "782/782 [==============================] - 175s 224ms/step - loss: 0.4161 - accuracy: 0.8531 - val_loss: 0.5525 - val_accuracy: 0.8131\n",
      "Epoch 63/100\n",
      "782/782 [==============================] - 175s 224ms/step - loss: 0.4052 - accuracy: 0.8565 - val_loss: 0.5492 - val_accuracy: 0.8133\n",
      "Epoch 64/100\n",
      "782/782 [==============================] - 176s 226ms/step - loss: 0.4079 - accuracy: 0.8564 - val_loss: 0.5419 - val_accuracy: 0.8181\n",
      "Epoch 65/100\n",
      "782/782 [==============================] - 176s 225ms/step - loss: 0.3998 - accuracy: 0.8585 - val_loss: 0.5321 - val_accuracy: 0.8160\n",
      "Epoch 66/100\n",
      "782/782 [==============================] - 176s 225ms/step - loss: 0.3928 - accuracy: 0.8614 - val_loss: 0.5411 - val_accuracy: 0.8156\n",
      "Epoch 67/100\n",
      "782/782 [==============================] - 176s 224ms/step - loss: 0.3884 - accuracy: 0.8632 - val_loss: 0.5494 - val_accuracy: 0.8169\n",
      "Epoch 68/100\n",
      "782/782 [==============================] - 175s 224ms/step - loss: 0.3834 - accuracy: 0.8644 - val_loss: 0.5398 - val_accuracy: 0.8185\n",
      "Epoch 69/100\n",
      "782/782 [==============================] - 186s 238ms/step - loss: 0.3818 - accuracy: 0.8655 - val_loss: 0.5297 - val_accuracy: 0.8220\n",
      "Epoch 70/100\n",
      "782/782 [==============================] - 195s 250ms/step - loss: 0.3782 - accuracy: 0.8663 - val_loss: 0.5274 - val_accuracy: 0.8216\n",
      "Epoch 71/100\n",
      "782/782 [==============================] - 187s 239ms/step - loss: 0.3735 - accuracy: 0.8690 - val_loss: 0.5279 - val_accuracy: 0.8260\n",
      "Epoch 72/100\n",
      "782/782 [==============================] - 193s 246ms/step - loss: 0.3683 - accuracy: 0.8700 - val_loss: 0.5352 - val_accuracy: 0.8213\n",
      "Epoch 73/100\n",
      "782/782 [==============================] - 184s 235ms/step - loss: 0.3603 - accuracy: 0.8730 - val_loss: 0.5623 - val_accuracy: 0.8158\n",
      "Epoch 74/100\n",
      "782/782 [==============================] - 370s 473ms/step - loss: 0.3623 - accuracy: 0.8702 - val_loss: 0.5345 - val_accuracy: 0.8218\n",
      "Epoch 75/100\n",
      "739/782 [===========================>..] - ETA: 12s - loss: 0.3614 - accuracy: 0.8719"
     ]
    },
    {
     "ename": "ResourceExhaustedError",
     "evalue": " OOM when allocating tensor with shape[73,256,288] and type float on /job:localhost/replica:0/task:0/device:CPU:0 by allocator cpu\n\t [[node gradient_tape/sequential_4/conv2d_26/Conv2D/Conv2DBackpropFilter (defined at <ipython-input-27-95138ae397c5>:35) ]]\nHint: If you want to see a list of allocated tensors when OOM happens, add report_tensor_allocations_upon_oom to RunOptions for current allocation info.\n [Op:__inference_train_function_4493]\n\nFunction call stack:\ntrain_function\n",
     "output_type": "error",
     "traceback": [
      "\u001b[1;31m---------------------------------------------------------------------------\u001b[0m",
      "\u001b[1;31mResourceExhaustedError\u001b[0m                    Traceback (most recent call last)",
      "\u001b[1;32m<ipython-input-27-95138ae397c5>\u001b[0m in \u001b[0;36m<module>\u001b[1;34m\u001b[0m\n\u001b[0;32m     33\u001b[0m \u001b[0mmodel\u001b[0m\u001b[1;33m.\u001b[0m\u001b[0mcompile\u001b[0m\u001b[1;33m(\u001b[0m\u001b[0moptimizer\u001b[0m\u001b[1;33m=\u001b[0m\u001b[0madam\u001b[0m\u001b[1;33m,\u001b[0m\u001b[0mloss\u001b[0m\u001b[1;33m=\u001b[0m\u001b[1;34m'categorical_crossentropy'\u001b[0m\u001b[1;33m,\u001b[0m\u001b[0mmetrics\u001b[0m\u001b[1;33m=\u001b[0m\u001b[1;33m[\u001b[0m\u001b[1;34m'accuracy'\u001b[0m\u001b[1;33m]\u001b[0m\u001b[1;33m)\u001b[0m\u001b[1;33m\u001b[0m\u001b[1;33m\u001b[0m\u001b[0m\n\u001b[0;32m     34\u001b[0m \u001b[1;31m# 训练模型\u001b[0m\u001b[1;33m\u001b[0m\u001b[1;33m\u001b[0m\u001b[1;33m\u001b[0m\u001b[0m\n\u001b[1;32m---> 35\u001b[1;33m \u001b[0mmodel\u001b[0m\u001b[1;33m.\u001b[0m\u001b[0mfit\u001b[0m\u001b[1;33m(\u001b[0m\u001b[0mx_train\u001b[0m\u001b[1;33m,\u001b[0m \u001b[0my_train\u001b[0m\u001b[1;33m,\u001b[0m \u001b[0mbatch_size\u001b[0m\u001b[1;33m=\u001b[0m\u001b[1;36m64\u001b[0m\u001b[1;33m,\u001b[0m \u001b[0mepochs\u001b[0m\u001b[1;33m=\u001b[0m\u001b[1;36m100\u001b[0m\u001b[1;33m,\u001b[0m \u001b[0mvalidation_data\u001b[0m\u001b[1;33m=\u001b[0m\u001b[1;33m(\u001b[0m\u001b[0mx_test\u001b[0m\u001b[1;33m,\u001b[0m \u001b[0my_test\u001b[0m\u001b[1;33m)\u001b[0m\u001b[1;33m,\u001b[0m \u001b[0mshuffle\u001b[0m\u001b[1;33m=\u001b[0m\u001b[1;32mTrue\u001b[0m\u001b[1;33m)\u001b[0m\u001b[1;33m\u001b[0m\u001b[1;33m\u001b[0m\u001b[0m\n\u001b[0m",
      "\u001b[1;32mK:\\anaconda\\lib\\site-packages\\tensorflow\\python\\keras\\engine\\training.py\u001b[0m in \u001b[0;36m_method_wrapper\u001b[1;34m(self, *args, **kwargs)\u001b[0m\n\u001b[0;32m    106\u001b[0m   \u001b[1;32mdef\u001b[0m \u001b[0m_method_wrapper\u001b[0m\u001b[1;33m(\u001b[0m\u001b[0mself\u001b[0m\u001b[1;33m,\u001b[0m \u001b[1;33m*\u001b[0m\u001b[0margs\u001b[0m\u001b[1;33m,\u001b[0m \u001b[1;33m**\u001b[0m\u001b[0mkwargs\u001b[0m\u001b[1;33m)\u001b[0m\u001b[1;33m:\u001b[0m\u001b[1;33m\u001b[0m\u001b[1;33m\u001b[0m\u001b[0m\n\u001b[0;32m    107\u001b[0m     \u001b[1;32mif\u001b[0m \u001b[1;32mnot\u001b[0m \u001b[0mself\u001b[0m\u001b[1;33m.\u001b[0m\u001b[0m_in_multi_worker_mode\u001b[0m\u001b[1;33m(\u001b[0m\u001b[1;33m)\u001b[0m\u001b[1;33m:\u001b[0m  \u001b[1;31m# pylint: disable=protected-access\u001b[0m\u001b[1;33m\u001b[0m\u001b[1;33m\u001b[0m\u001b[0m\n\u001b[1;32m--> 108\u001b[1;33m       \u001b[1;32mreturn\u001b[0m \u001b[0mmethod\u001b[0m\u001b[1;33m(\u001b[0m\u001b[0mself\u001b[0m\u001b[1;33m,\u001b[0m \u001b[1;33m*\u001b[0m\u001b[0margs\u001b[0m\u001b[1;33m,\u001b[0m \u001b[1;33m**\u001b[0m\u001b[0mkwargs\u001b[0m\u001b[1;33m)\u001b[0m\u001b[1;33m\u001b[0m\u001b[1;33m\u001b[0m\u001b[0m\n\u001b[0m\u001b[0;32m    109\u001b[0m \u001b[1;33m\u001b[0m\u001b[0m\n\u001b[0;32m    110\u001b[0m     \u001b[1;31m# Running inside `run_distribute_coordinator` already.\u001b[0m\u001b[1;33m\u001b[0m\u001b[1;33m\u001b[0m\u001b[1;33m\u001b[0m\u001b[0m\n",
      "\u001b[1;32mK:\\anaconda\\lib\\site-packages\\tensorflow\\python\\keras\\engine\\training.py\u001b[0m in \u001b[0;36mfit\u001b[1;34m(self, x, y, batch_size, epochs, verbose, callbacks, validation_split, validation_data, shuffle, class_weight, sample_weight, initial_epoch, steps_per_epoch, validation_steps, validation_batch_size, validation_freq, max_queue_size, workers, use_multiprocessing)\u001b[0m\n\u001b[0;32m   1096\u001b[0m                 batch_size=batch_size):\n\u001b[0;32m   1097\u001b[0m               \u001b[0mcallbacks\u001b[0m\u001b[1;33m.\u001b[0m\u001b[0mon_train_batch_begin\u001b[0m\u001b[1;33m(\u001b[0m\u001b[0mstep\u001b[0m\u001b[1;33m)\u001b[0m\u001b[1;33m\u001b[0m\u001b[1;33m\u001b[0m\u001b[0m\n\u001b[1;32m-> 1098\u001b[1;33m               \u001b[0mtmp_logs\u001b[0m \u001b[1;33m=\u001b[0m \u001b[0mtrain_function\u001b[0m\u001b[1;33m(\u001b[0m\u001b[0miterator\u001b[0m\u001b[1;33m)\u001b[0m\u001b[1;33m\u001b[0m\u001b[1;33m\u001b[0m\u001b[0m\n\u001b[0m\u001b[0;32m   1099\u001b[0m               \u001b[1;32mif\u001b[0m \u001b[0mdata_handler\u001b[0m\u001b[1;33m.\u001b[0m\u001b[0mshould_sync\u001b[0m\u001b[1;33m:\u001b[0m\u001b[1;33m\u001b[0m\u001b[1;33m\u001b[0m\u001b[0m\n\u001b[0;32m   1100\u001b[0m                 \u001b[0mcontext\u001b[0m\u001b[1;33m.\u001b[0m\u001b[0masync_wait\u001b[0m\u001b[1;33m(\u001b[0m\u001b[1;33m)\u001b[0m\u001b[1;33m\u001b[0m\u001b[1;33m\u001b[0m\u001b[0m\n",
      "\u001b[1;32mK:\\anaconda\\lib\\site-packages\\tensorflow\\python\\eager\\def_function.py\u001b[0m in \u001b[0;36m__call__\u001b[1;34m(self, *args, **kwds)\u001b[0m\n\u001b[0;32m    778\u001b[0m       \u001b[1;32melse\u001b[0m\u001b[1;33m:\u001b[0m\u001b[1;33m\u001b[0m\u001b[1;33m\u001b[0m\u001b[0m\n\u001b[0;32m    779\u001b[0m         \u001b[0mcompiler\u001b[0m \u001b[1;33m=\u001b[0m \u001b[1;34m\"nonXla\"\u001b[0m\u001b[1;33m\u001b[0m\u001b[1;33m\u001b[0m\u001b[0m\n\u001b[1;32m--> 780\u001b[1;33m         \u001b[0mresult\u001b[0m \u001b[1;33m=\u001b[0m \u001b[0mself\u001b[0m\u001b[1;33m.\u001b[0m\u001b[0m_call\u001b[0m\u001b[1;33m(\u001b[0m\u001b[1;33m*\u001b[0m\u001b[0margs\u001b[0m\u001b[1;33m,\u001b[0m \u001b[1;33m**\u001b[0m\u001b[0mkwds\u001b[0m\u001b[1;33m)\u001b[0m\u001b[1;33m\u001b[0m\u001b[1;33m\u001b[0m\u001b[0m\n\u001b[0m\u001b[0;32m    781\u001b[0m \u001b[1;33m\u001b[0m\u001b[0m\n\u001b[0;32m    782\u001b[0m       \u001b[0mnew_tracing_count\u001b[0m \u001b[1;33m=\u001b[0m \u001b[0mself\u001b[0m\u001b[1;33m.\u001b[0m\u001b[0m_get_tracing_count\u001b[0m\u001b[1;33m(\u001b[0m\u001b[1;33m)\u001b[0m\u001b[1;33m\u001b[0m\u001b[1;33m\u001b[0m\u001b[0m\n",
      "\u001b[1;32mK:\\anaconda\\lib\\site-packages\\tensorflow\\python\\eager\\def_function.py\u001b[0m in \u001b[0;36m_call\u001b[1;34m(self, *args, **kwds)\u001b[0m\n\u001b[0;32m    805\u001b[0m       \u001b[1;31m# In this case we have created variables on the first call, so we run the\u001b[0m\u001b[1;33m\u001b[0m\u001b[1;33m\u001b[0m\u001b[1;33m\u001b[0m\u001b[0m\n\u001b[0;32m    806\u001b[0m       \u001b[1;31m# defunned version which is guaranteed to never create variables.\u001b[0m\u001b[1;33m\u001b[0m\u001b[1;33m\u001b[0m\u001b[1;33m\u001b[0m\u001b[0m\n\u001b[1;32m--> 807\u001b[1;33m       \u001b[1;32mreturn\u001b[0m \u001b[0mself\u001b[0m\u001b[1;33m.\u001b[0m\u001b[0m_stateless_fn\u001b[0m\u001b[1;33m(\u001b[0m\u001b[1;33m*\u001b[0m\u001b[0margs\u001b[0m\u001b[1;33m,\u001b[0m \u001b[1;33m**\u001b[0m\u001b[0mkwds\u001b[0m\u001b[1;33m)\u001b[0m  \u001b[1;31m# pylint: disable=not-callable\u001b[0m\u001b[1;33m\u001b[0m\u001b[1;33m\u001b[0m\u001b[0m\n\u001b[0m\u001b[0;32m    808\u001b[0m     \u001b[1;32melif\u001b[0m \u001b[0mself\u001b[0m\u001b[1;33m.\u001b[0m\u001b[0m_stateful_fn\u001b[0m \u001b[1;32mis\u001b[0m \u001b[1;32mnot\u001b[0m \u001b[1;32mNone\u001b[0m\u001b[1;33m:\u001b[0m\u001b[1;33m\u001b[0m\u001b[1;33m\u001b[0m\u001b[0m\n\u001b[0;32m    809\u001b[0m       \u001b[1;31m# Release the lock early so that multiple threads can perform the call\u001b[0m\u001b[1;33m\u001b[0m\u001b[1;33m\u001b[0m\u001b[1;33m\u001b[0m\u001b[0m\n",
      "\u001b[1;32mK:\\anaconda\\lib\\site-packages\\tensorflow\\python\\eager\\function.py\u001b[0m in \u001b[0;36m__call__\u001b[1;34m(self, *args, **kwargs)\u001b[0m\n\u001b[0;32m   2827\u001b[0m     \u001b[1;32mwith\u001b[0m \u001b[0mself\u001b[0m\u001b[1;33m.\u001b[0m\u001b[0m_lock\u001b[0m\u001b[1;33m:\u001b[0m\u001b[1;33m\u001b[0m\u001b[1;33m\u001b[0m\u001b[0m\n\u001b[0;32m   2828\u001b[0m       \u001b[0mgraph_function\u001b[0m\u001b[1;33m,\u001b[0m \u001b[0margs\u001b[0m\u001b[1;33m,\u001b[0m \u001b[0mkwargs\u001b[0m \u001b[1;33m=\u001b[0m \u001b[0mself\u001b[0m\u001b[1;33m.\u001b[0m\u001b[0m_maybe_define_function\u001b[0m\u001b[1;33m(\u001b[0m\u001b[0margs\u001b[0m\u001b[1;33m,\u001b[0m \u001b[0mkwargs\u001b[0m\u001b[1;33m)\u001b[0m\u001b[1;33m\u001b[0m\u001b[1;33m\u001b[0m\u001b[0m\n\u001b[1;32m-> 2829\u001b[1;33m     \u001b[1;32mreturn\u001b[0m \u001b[0mgraph_function\u001b[0m\u001b[1;33m.\u001b[0m\u001b[0m_filtered_call\u001b[0m\u001b[1;33m(\u001b[0m\u001b[0margs\u001b[0m\u001b[1;33m,\u001b[0m \u001b[0mkwargs\u001b[0m\u001b[1;33m)\u001b[0m  \u001b[1;31m# pylint: disable=protected-access\u001b[0m\u001b[1;33m\u001b[0m\u001b[1;33m\u001b[0m\u001b[0m\n\u001b[0m\u001b[0;32m   2830\u001b[0m \u001b[1;33m\u001b[0m\u001b[0m\n\u001b[0;32m   2831\u001b[0m   \u001b[1;33m@\u001b[0m\u001b[0mproperty\u001b[0m\u001b[1;33m\u001b[0m\u001b[1;33m\u001b[0m\u001b[0m\n",
      "\u001b[1;32mK:\\anaconda\\lib\\site-packages\\tensorflow\\python\\eager\\function.py\u001b[0m in \u001b[0;36m_filtered_call\u001b[1;34m(self, args, kwargs, cancellation_manager)\u001b[0m\n\u001b[0;32m   1846\u001b[0m                            resource_variable_ops.BaseResourceVariable))],\n\u001b[0;32m   1847\u001b[0m         \u001b[0mcaptured_inputs\u001b[0m\u001b[1;33m=\u001b[0m\u001b[0mself\u001b[0m\u001b[1;33m.\u001b[0m\u001b[0mcaptured_inputs\u001b[0m\u001b[1;33m,\u001b[0m\u001b[1;33m\u001b[0m\u001b[1;33m\u001b[0m\u001b[0m\n\u001b[1;32m-> 1848\u001b[1;33m         cancellation_manager=cancellation_manager)\n\u001b[0m\u001b[0;32m   1849\u001b[0m \u001b[1;33m\u001b[0m\u001b[0m\n\u001b[0;32m   1850\u001b[0m   \u001b[1;32mdef\u001b[0m \u001b[0m_call_flat\u001b[0m\u001b[1;33m(\u001b[0m\u001b[0mself\u001b[0m\u001b[1;33m,\u001b[0m \u001b[0margs\u001b[0m\u001b[1;33m,\u001b[0m \u001b[0mcaptured_inputs\u001b[0m\u001b[1;33m,\u001b[0m \u001b[0mcancellation_manager\u001b[0m\u001b[1;33m=\u001b[0m\u001b[1;32mNone\u001b[0m\u001b[1;33m)\u001b[0m\u001b[1;33m:\u001b[0m\u001b[1;33m\u001b[0m\u001b[1;33m\u001b[0m\u001b[0m\n",
      "\u001b[1;32mK:\\anaconda\\lib\\site-packages\\tensorflow\\python\\eager\\function.py\u001b[0m in \u001b[0;36m_call_flat\u001b[1;34m(self, args, captured_inputs, cancellation_manager)\u001b[0m\n\u001b[0;32m   1922\u001b[0m       \u001b[1;31m# No tape is watching; skip to running the function.\u001b[0m\u001b[1;33m\u001b[0m\u001b[1;33m\u001b[0m\u001b[1;33m\u001b[0m\u001b[0m\n\u001b[0;32m   1923\u001b[0m       return self._build_call_outputs(self._inference_function.call(\n\u001b[1;32m-> 1924\u001b[1;33m           ctx, args, cancellation_manager=cancellation_manager))\n\u001b[0m\u001b[0;32m   1925\u001b[0m     forward_backward = self._select_forward_and_backward_functions(\n\u001b[0;32m   1926\u001b[0m         \u001b[0margs\u001b[0m\u001b[1;33m,\u001b[0m\u001b[1;33m\u001b[0m\u001b[1;33m\u001b[0m\u001b[0m\n",
      "\u001b[1;32mK:\\anaconda\\lib\\site-packages\\tensorflow\\python\\eager\\function.py\u001b[0m in \u001b[0;36mcall\u001b[1;34m(self, ctx, args, cancellation_manager)\u001b[0m\n\u001b[0;32m    548\u001b[0m               \u001b[0minputs\u001b[0m\u001b[1;33m=\u001b[0m\u001b[0margs\u001b[0m\u001b[1;33m,\u001b[0m\u001b[1;33m\u001b[0m\u001b[1;33m\u001b[0m\u001b[0m\n\u001b[0;32m    549\u001b[0m               \u001b[0mattrs\u001b[0m\u001b[1;33m=\u001b[0m\u001b[0mattrs\u001b[0m\u001b[1;33m,\u001b[0m\u001b[1;33m\u001b[0m\u001b[1;33m\u001b[0m\u001b[0m\n\u001b[1;32m--> 550\u001b[1;33m               ctx=ctx)\n\u001b[0m\u001b[0;32m    551\u001b[0m         \u001b[1;32melse\u001b[0m\u001b[1;33m:\u001b[0m\u001b[1;33m\u001b[0m\u001b[1;33m\u001b[0m\u001b[0m\n\u001b[0;32m    552\u001b[0m           outputs = execute.execute_with_cancellation(\n",
      "\u001b[1;32mK:\\anaconda\\lib\\site-packages\\tensorflow\\python\\eager\\execute.py\u001b[0m in \u001b[0;36mquick_execute\u001b[1;34m(op_name, num_outputs, inputs, attrs, ctx, name)\u001b[0m\n\u001b[0;32m     58\u001b[0m     \u001b[0mctx\u001b[0m\u001b[1;33m.\u001b[0m\u001b[0mensure_initialized\u001b[0m\u001b[1;33m(\u001b[0m\u001b[1;33m)\u001b[0m\u001b[1;33m\u001b[0m\u001b[1;33m\u001b[0m\u001b[0m\n\u001b[0;32m     59\u001b[0m     tensors = pywrap_tfe.TFE_Py_Execute(ctx._handle, device_name, op_name,\n\u001b[1;32m---> 60\u001b[1;33m                                         inputs, attrs, num_outputs)\n\u001b[0m\u001b[0;32m     61\u001b[0m   \u001b[1;32mexcept\u001b[0m \u001b[0mcore\u001b[0m\u001b[1;33m.\u001b[0m\u001b[0m_NotOkStatusException\u001b[0m \u001b[1;32mas\u001b[0m \u001b[0me\u001b[0m\u001b[1;33m:\u001b[0m\u001b[1;33m\u001b[0m\u001b[1;33m\u001b[0m\u001b[0m\n\u001b[0;32m     62\u001b[0m     \u001b[1;32mif\u001b[0m \u001b[0mname\u001b[0m \u001b[1;32mis\u001b[0m \u001b[1;32mnot\u001b[0m \u001b[1;32mNone\u001b[0m\u001b[1;33m:\u001b[0m\u001b[1;33m\u001b[0m\u001b[1;33m\u001b[0m\u001b[0m\n",
      "\u001b[1;31mResourceExhaustedError\u001b[0m:  OOM when allocating tensor with shape[73,256,288] and type float on /job:localhost/replica:0/task:0/device:CPU:0 by allocator cpu\n\t [[node gradient_tape/sequential_4/conv2d_26/Conv2D/Conv2DBackpropFilter (defined at <ipython-input-27-95138ae397c5>:35) ]]\nHint: If you want to see a list of allocated tensors when OOM happens, add report_tensor_allocations_upon_oom to RunOptions for current allocation info.\n [Op:__inference_train_function_4493]\n\nFunction call stack:\ntrain_function\n"
     ]
    }
   ],
   "source": [
    "#数据归一化\n",
    "x_train=x_train/255.0\n",
    "x_test=x_test/255.0\n",
    "#转 one hot 格式\n",
    "y_train = to_categorical(y_train,num_classes=10)\n",
    "y_test = to_categorical(y_test,num_classes=10)\n",
    "    \n",
    "#共7层\n",
    "# 定义卷积网络\n",
    "model = Sequential()\n",
    "model.add(Convolution2D(input_shape=(32,32,3), filters=32, kernel_size=3, strides=1, padding='same', activation = 'relu'))\n",
    "model.add(Convolution2D(filters=32, kernel_size=3, strides=1, padding='same', activation =\n",
    "'relu'))\n",
    "model.add(MaxPooling2D(pool_size=2, strides=2, padding='valid'))\n",
    "model.add(Dropout(0.2))\n",
    "model.add(Convolution2D(filters=64, kernel_size=3, strides=1, padding='same', activation =\n",
    "'relu'))\n",
    "model.add(Convolution2D(filters=64, kernel_size=3, strides=1, padding='same', activation =\n",
    "'relu'))\n",
    "model.add(MaxPooling2D(pool_size=2, strides=2, padding='valid'))\n",
    "model.add(Dropout(0.3))\n",
    "model.add(Convolution2D(filters=128, kernel_size=3, strides=1, padding='same', activation\n",
    "= 'relu'))\n",
    "model.add(Convolution2D(filters=128, kernel_size=3, strides=1, padding='same', activation\n",
    "= 'relu'))\n",
    "model.add(MaxPooling2D(pool_size=2, strides=2, padding='valid'))\n",
    "model.add(Dropout(0.4))\n",
    "model.add(Flatten())\n",
    "model.add(Dense(10,activation = 'softmax'+\n",
    "               ))\n",
    "# 定义优化器\n",
    "adam = Adam(lr=1e-4)\n",
    "# 定义优化器，loss function，训练过程中计算准确率\n",
    "model.compile(optimizer=adam,loss='categorical_crossentropy',metrics=['accuracy'])\n",
    "# 训练模型\n",
    "model.fit(x_train, y_train, batch_size=64, epochs=100, validation_data=(x_test, y_test), shuffle=True)"
   ]
  }
 ],
 "metadata": {
  "kernelspec": {
   "display_name": "Python 3",
   "language": "python",
   "name": "python3"
  }
 },
 "nbformat": 4,
 "nbformat_minor": 2
}
